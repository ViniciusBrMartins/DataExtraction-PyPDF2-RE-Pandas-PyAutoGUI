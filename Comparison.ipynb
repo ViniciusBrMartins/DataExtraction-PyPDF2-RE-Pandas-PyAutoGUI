{
 "cells": [
  {
   "cell_type": "code",
   "execution_count": null,
   "metadata": {},
   "outputs": [],
   "source": [
    "import pandas as pd, re, time, pyautogui as pg"
   ]
  },
  {
   "cell_type": "code",
   "execution_count": null,
   "metadata": {},
   "outputs": [],
   "source": [
    "df_livro = pd.read_csv('livro.csv', sep=';', encoding='utf-8-sig')\n",
    "df_pdf = pd.read_csv('pdf.csv', sep=';', encoding='utf-8-sig')\n",
    "df_livro.reset_index(drop=True, inplace=True)\n",
    "df_pdf.reset_index(drop=True, inplace=True)"
   ]
  },
  {
   "cell_type": "code",
   "execution_count": null,
   "metadata": {},
   "outputs": [],
   "source": [
    "for row in range(len(df_livro)):\n",
    "    if re.search(' $', df_livro['Historico'][row]):\n",
    "        df_livro['Historico'][row] = df_livro['Historico'][row][:-1]"
   ]
  },
  {
   "cell_type": "code",
   "execution_count": null,
   "metadata": {},
   "outputs": [],
   "source": [
    "count = 0\n",
    "\n",
    "for index in range(len(df_livro)):\n",
    "    df = df_pdf.loc[(df_pdf['Data'] == df_livro['Data'][index]) & (df_pdf['Codigo'] == df_livro['Codigo'][index]) & (df_pdf['Historico'] == df_livro['Historico'][index]) & (df_pdf['Valor'] == df_livro['Valor'][index])]\n",
    "    \n",
    "    if not df.empty:\n",
    "        count += 1\n",
    "        df_pdf.drop(index=df.index.values, inplace=True)"
   ]
  },
  {
   "cell_type": "code",
   "execution_count": null,
   "metadata": {},
   "outputs": [],
   "source": [
    "df_pdf.reset_index(drop=True, inplace=True)"
   ]
  },
  {
   "cell_type": "code",
   "execution_count": null,
   "metadata": {},
   "outputs": [],
   "source": [
    "dup = df_pdf.duplicated()\n",
    "\n",
    "for count, line in enumerate(dup):\n",
    "    if line == True: \n",
    "        if not df_dup.empty:\n",
    "            df_dup = pd.concat([df_dup, df_pdf.loc[[count]]])\n",
    "            \n",
    "        else: df_dup = df_pdf.loc[[count]]"
   ]
  },
  {
   "cell_type": "code",
   "execution_count": null,
   "metadata": {},
   "outputs": [],
   "source": [
    "dup = df_livro.duplicated()\n",
    "\n",
    "for count, line in enumerate(dup):\n",
    "    if line == True:\n",
    "        if not livro_dup.empty:\n",
    "            livro_dup = pd.concat([livro_dup, df_livro.loc[[count]]])\n",
    "            \n",
    "        else: livro_dup = df_livro.loc[[count]]"
   ]
  },
  {
   "cell_type": "code",
   "execution_count": null,
   "metadata": {},
   "outputs": [],
   "source": [
    "all_dup = pd.concat([df_dup, livro_dup])\n",
    "all_dup.drop_duplicates(inplace=True)\n",
    "all_dup.reset_index(inplace=True, drop=True)\n",
    "all_dup.to_csv('duplicados.csv', sep=';', encoding='utf-8-sig', index=False)"
   ]
  },
  {
   "cell_type": "code",
   "execution_count": null,
   "metadata": {},
   "outputs": [],
   "source": [
    "df_pdf"
   ]
  },
  {
   "cell_type": "code",
   "execution_count": null,
   "metadata": {},
   "outputs": [],
   "source": [
    "for l in range(12):\n",
    "    if l+1 >= 10: mes = str(l+1) \n",
    "    else: mes = '0' + str(l+1)\n",
    "    pg.click(2200+l*36, 150)\n",
    "    time.sleep(0.2)\n",
    "    \n",
    "    for index in range(len(df_pdf)):\n",
    "        if '/' + mes + '/' in df_pdf['Data'][index]:\n",
    "            1.100,00\n",
    "            time.sleep(0.2)\n",
    "            pg.click(3243, 772)\n",
    "            time.sleep(0.2)\n",
    "            pg.write(df_pdf['Data'][index].replace('/'+mes+'/2023', ''))\n",
    "            pg.press('tab')\n",
    "            time.sleep(0.2)\n",
    "            pg.write(df_pdf['Codigo'][index].replace('.', ''))\n",
    "            pg.press('tab')\n",
    "            pg.press('tab')\n",
    "            pg.write(df_pdf['Historico'][index])\n",
    "            time.sleep(0.2)\n",
    "            pg.press('enter')\n",
    "            pg.write(df_pdf['Valor'][index])\n",
    "            pg.press('enter')\n",
    "            pg.press('enter')\n",
    "            time.sleep(0.2)\n",
    "\n",
    "\n",
    "\n"
   ]
  }
 ],
 "metadata": {
  "kernelspec": {
   "display_name": "Python 3",
   "language": "python",
   "name": "python3"
  },
  "language_info": {
   "codemirror_mode": {
    "name": "ipython",
    "version": 3
   },
   "file_extension": ".py",
   "mimetype": "text/x-python",
   "name": "python",
   "nbconvert_exporter": "python",
   "pygments_lexer": "ipython3",
   "version": "3.10.10"
  }
 },
 "nbformat": 4,
 "nbformat_minor": 2
}
