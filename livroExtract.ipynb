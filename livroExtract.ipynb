{
 "cells": [
  {
   "cell_type": "code",
   "execution_count": null,
   "metadata": {},
   "outputs": [],
   "source": [
    "import pyautogui as pg, pyperclip as pc, time, re, pandas as pd\n",
    "y = 250"
   ]
  },
  {
   "cell_type": "code",
   "execution_count": null,
   "metadata": {},
   "outputs": [],
   "source": [
    "data = []\n",
    "codigo = []\n",
    "historico = []\n",
    "valor = []\n",
    "\n",
    "for m in range(12):\n",
    "    if m == 0: \n",
    "        y = 230\n",
    "        ip = 9\n",
    "        \n",
    "    else: \n",
    "        y = 250\n",
    "        ip = 8\n",
    "        \n",
    "    if m+1 >= 10: mes = str(m+1) \n",
    "    \n",
    "    else: mes = '0' + str(m+1)\n",
    "    \n",
    "    pg.click(2200+m*36, 150)\n",
    "    time.sleep(0.2)\n",
    "    \n",
    "    for l in range(10000000):\n",
    "        if 30*l > 30*ip:\n",
    "            for scroll in range(l-ip):\n",
    "                    pg.click(3460, 500)\n",
    "                    \n",
    "            pg.doubleClick(2300, y+30*ip)\n",
    "            \n",
    "        else:\n",
    "            pg.doubleClick(2300, y+30*l)\n",
    "            \n",
    "        #dentro\n",
    "        pg.click(2220, 180)\n",
    "        pg.hotkey('ctrl', 'a')\n",
    "        pg.hotkey('ctrl', 'c')\n",
    "        time.sleep(0.3)\n",
    "        data.append(pc.paste())\n",
    "        \n",
    "        if len(valor)>1:\n",
    "            if data[-1] == valor[-1]:\n",
    "                data.pop()\n",
    "                codigo.pop()\n",
    "                historico.pop()\n",
    "                valor.pop()\n",
    "                data.pop()\n",
    "                print('quebrou aqui')\n",
    "                break\n",
    "            \n",
    "        pg.click(2220, 230)\n",
    "        time.sleep(0.3)\n",
    "        pg.hotkey('ctrl', 'c')\n",
    "        codigo.append(pc.paste())\n",
    "        pg.click(2220, 270)\n",
    "        pg.hotkey('ctrl', 'a')\n",
    "        pg.hotkey('ctrl', 'c')\n",
    "        historico.append(pc.paste())\n",
    "        pg.click(2220, 390)\n",
    "        time.sleep(0.5)\n",
    "        pg.hotkey('ctrl', 'c')\n",
    "        valor.append(pc.paste())\n",
    "        pg.click(3350, 830)\n",
    "        \n",
    "        if len(valor)>1:\n",
    "            if 'venda' in historico[-1]:\n",
    "                valor[-1] = valor[-1]*-1\n",
    "                \n",
    "            if valor[-1] == valor[-2] and data[-1] == data[-2] and historico[-1] == historico[-2]:\n",
    "                data.pop()\n",
    "                codigo.pop()\n",
    "                historico.pop()\n",
    "                valor.pop()\n",
    "                print('quebrou aqui2')\n",
    "                break"
   ]
  },
  {
   "cell_type": "code",
   "execution_count": null,
   "metadata": {},
   "outputs": [],
   "source": [
    "for l in range(20):\n",
    "    if 30*l > 240:\n",
    "        for scroll in range(l-8):\n",
    "                pg.click(3460, 500)\n",
    "        pg.doubleClick(2300, y+240)\n",
    "        pg.click(3350, 830)\n",
    "    else:\n",
    "        pg.click(2300, y+30*l)"
   ]
  },
  {
   "cell_type": "code",
   "execution_count": null,
   "metadata": {},
   "outputs": [],
   "source": [
    "for hist in range(len(historico)):\n",
    "    if re.search('\\d\\d/\\d\\d\\/\\d\\d\\d\\d', historico[hist]):\n",
    "        data.pop(hist)\n",
    "        codigo.pop(hist)\n",
    "        historico.pop(hist)\n",
    "        valor.pop(hist)"
   ]
  },
  {
   "cell_type": "code",
   "execution_count": null,
   "metadata": {},
   "outputs": [],
   "source": [
    "df = pd.DataFrame({'Data': data, 'Codigo': codigo, 'Historico': historico, 'Valor': valor})\n",
    "df.to_csv('livro.csv', sep=';', encoding='utf-8-sig', index=False)"
   ]
  }
 ],
 "metadata": {
  "kernelspec": {
   "display_name": "Python 3",
   "language": "python",
   "name": "python3"
  },
  "language_info": {
   "codemirror_mode": {
    "name": "ipython",
    "version": 3
   },
   "file_extension": ".py",
   "mimetype": "text/x-python",
   "name": "python",
   "nbconvert_exporter": "python",
   "pygments_lexer": "ipython3",
   "version": "3.10.10"
  }
 },
 "nbformat": 4,
 "nbformat_minor": 2
}
