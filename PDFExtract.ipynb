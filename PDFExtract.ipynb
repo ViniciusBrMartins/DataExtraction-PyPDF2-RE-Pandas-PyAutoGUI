{
 "cells": [
  {
   "cell_type": "code",
   "execution_count": null,
   "id": "e347b3f5",
   "metadata": {},
   "outputs": [],
   "source": [
    "import re \n",
    "import PyPDF2 as pdf2\n",
    "import pandas as pd"
   ]
  },
  {
   "cell_type": "code",
   "execution_count": null,
   "id": "38b85036",
   "metadata": {},
   "outputs": [],
   "source": [
    "header = pdf2.PdfReader('RAZÃO DE JANEIRO A OUTUBRO 2023.pdf')"
   ]
  },
  {
   "cell_type": "code",
   "execution_count": null,
   "metadata": {},
   "outputs": [],
   "source": [
    "for page in range(len(header.pages)):\n",
    "    print(header.pages[page].extract_text())"
   ]
  },
  {
   "cell_type": "code",
   "execution_count": null,
   "metadata": {},
   "outputs": [],
   "source": [
    "re.findall('VR. PGTO .+', header.pages[1].extract_text())"
   ]
  },
  {
   "cell_type": "code",
   "execution_count": null,
   "metadata": {},
   "outputs": [],
   "source": [
    "fulltext = ''\n",
    "for page in range(len(header.pages)):\n",
    "    fulltext += header.pages[page].extract_text()+'\\n'"
   ]
  },
  {
   "cell_type": "code",
   "execution_count": null,
   "metadata": {},
   "outputs": [],
   "source": [
    "\n",
    "datacodigo = re.findall('\\d\\d/\\d\\d/\\d\\d\\d\\d \\d.\\d\\d.\\d\\d\\d', fulltext)\n",
    "print(datacodigo)\n"
   ]
  },
  {
   "cell_type": "code",
   "execution_count": null,
   "metadata": {},
   "outputs": [],
   "source": [
    "for linha in range(len(datacodigo)):\n",
    "    datacodigo[linha] = datacodigo[linha].replace('\\n', '')"
   ]
  },
  {
   "cell_type": "code",
   "execution_count": null,
   "metadata": {},
   "outputs": [],
   "source": [
    "data = []\n",
    "codigo = []\n",
    "\n",
    "for linha in range(len(datacodigo)):\n",
    "    if re.search('DA$', datacodigo[linha]):\n",
    "        datacodigo[linha] += ' PECUARIA'\n",
    "        \n",
    "    data.append(re.search('\\d\\d/\\d\\d/\\d\\d\\d\\d', datacodigo[linha]).group())\n",
    "    codigo.append(re.search('\\d\\.\\d\\d\\.\\d\\d\\d', datacodigo[linha]).group())"
   ]
  },
  {
   "cell_type": "code",
   "execution_count": null,
   "metadata": {},
   "outputs": [],
   "source": [
    "print(len(data))\n",
    "print(len(codigo))"
   ]
  },
  {
   "cell_type": "code",
   "execution_count": null,
   "metadata": {},
   "outputs": [],
   "source": [
    "historicovalor = re.findall('Histórico: .+', fulltext)"
   ]
  },
  {
   "cell_type": "code",
   "execution_count": null,
   "metadata": {},
   "outputs": [],
   "source": [
    "numerro = 0\n",
    "saldo = []\n",
    "\n",
    "for linha in range(len(historicovalor)):\n",
    "    try: saldo.append(re.search(' -\\d+\\.?\\d+\\.?\\d+,\\d\\d', historicovalor[linha]).group())\n",
    "    \n",
    "    except: \n",
    "        print(historicovalor[linha])\n",
    "        print(linha)\n",
    "        \n"
   ]
  },
  {
   "cell_type": "code",
   "execution_count": null,
   "metadata": {},
   "outputs": [],
   "source": [
    "for item in range(len(saldo)):\n",
    "    saldo[item] = saldo[item].replace(' ', '')\n",
    "    saldo[item] = saldo[item].replace('.', '')\n",
    "    saldo[item] = saldo[item].replace(',', '.')\n",
    "    saldo[item] = float(saldo[item])"
   ]
  },
  {
   "cell_type": "code",
   "execution_count": null,
   "metadata": {},
   "outputs": [],
   "source": [
    "valor = []\n",
    "\n",
    "valor.append(str(round(saldo[0],2)))\n",
    "valor[0] = valor[0].replace('-', '')\n",
    "valor[0] = valor[0].replace('.', ',')\n",
    "\n",
    "if not re.search('\\,\\d\\d',valor[0]):\n",
    "    valor[0] += '0'\n",
    "    \n",
    "if len(valor[0]) >= 7:\n",
    "    valor[0] = valor[0][:-6] + '.' + valor[0][-6:] \n",
    "    \n",
    "historico = []\n",
    "historico.append(re.search('.+'+valor[0], historicovalor[0]).group().replace(valor[0], ''))\n",
    "historico[0] = historico[0][11:-2]\n",
    "\n",
    "for item in range(1, len(saldo)):\n",
    "    valor.append(str(round(saldo[item] - saldo[item-1],2)))\n",
    "    valor[item] = valor[item].replace('-', '')\n",
    "    valor[item] = valor[item].replace('.', ',')\n",
    "    \n",
    "    if not re.search('\\,\\d\\d',valor[item]):\n",
    "        valor[item] += '0'\n",
    "        \n",
    "    if len(valor[item]) >= 7:\n",
    "        valor[item] = valor[item][:-6] + '.' + valor[item][-6:] \n",
    "        \n",
    "    try: \n",
    "        historico.append(re.search('.+'+valor[item], historicovalor[item]).group().replace(valor[item], '')[11:])\n",
    "        \n",
    "    except:\n",
    "        print(historicovalor[item])\n",
    "        print(valor[item])\n",
    "        print(item)"
   ]
  },
  {
   "cell_type": "code",
   "execution_count": null,
   "metadata": {},
   "outputs": [],
   "source": [
    "df = pd.DataFrame({'Data': data, 'Codigo' : codigo, 'Historico': historico, 'Valor': valor})\n",
    "df.to_csv('out.csv', sep=';', encoding='utf-8-sig')"
   ]
  }
 ],
 "metadata": {
  "kernelspec": {
   "display_name": "Python 3 (ipykernel)",
   "language": "python",
   "name": "python3"
  },
  "language_info": {
   "codemirror_mode": {
    "name": "ipython",
    "version": 3
   },
   "file_extension": ".py",
   "mimetype": "text/x-python",
   "name": "python",
   "nbconvert_exporter": "python",
   "pygments_lexer": "ipython3",
   "version": "3.10.10"
  }
 },
 "nbformat": 4,
 "nbformat_minor": 5
}
